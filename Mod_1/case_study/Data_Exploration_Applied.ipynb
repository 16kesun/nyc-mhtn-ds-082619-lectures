{
 "cells": [
  {
   "cell_type": "code",
   "execution_count": 17,
   "metadata": {},
   "outputs": [],
   "source": [
    "import pandas as pd\n",
    "import matplotlib.pyplot as plt\n",
    "import numpy as np\n",
    "%matplotlib inline"
   ]
  },
  {
   "cell_type": "code",
   "execution_count": 18,
   "metadata": {},
   "outputs": [],
   "source": [
    "#Load our dataframe account for the index columns\n",
    "df = pd.read_csv('case_study.csv', index_col=0)"
   ]
  },
  {
   "cell_type": "code",
   "execution_count": 19,
   "metadata": {},
   "outputs": [
    {
     "data": {
      "text/plain": [
       "12367110"
      ]
     },
     "execution_count": 19,
     "metadata": {},
     "output_type": "execute_result"
    }
   ],
   "source": [
    "# Quickly check to see the size of our DF, both rows and columns\n",
    "df.size"
   ]
  },
  {
   "cell_type": "code",
   "execution_count": 9,
   "metadata": {},
   "outputs": [
    {
     "data": {
      "text/plain": [
       "(34545, 358)"
      ]
     },
     "execution_count": 9,
     "metadata": {},
     "output_type": "execute_result"
    }
   ],
   "source": [
    "df.shape"
   ]
  },
  {
   "cell_type": "markdown",
   "metadata": {},
   "source": [
    "## Subset your dataframe to only include the states in the tri-state area (NJ, CT, NY)"
   ]
  },
  {
   "cell_type": "code",
   "execution_count": 10,
   "metadata": {},
   "outputs": [
    {
     "data": {
      "text/plain": [
       "array([ 9., 34., 36.])"
      ]
     },
     "execution_count": 10,
     "metadata": {},
     "output_type": "execute_result"
    }
   ],
   "source": [
    "# your code here\n",
    "df['_STATE'].unique()"
   ]
  },
  {
   "cell_type": "markdown",
   "metadata": {},
   "source": [
    "Now check to see how large our subset df."
   ]
  },
  {
   "cell_type": "code",
   "execution_count": 11,
   "metadata": {},
   "outputs": [],
   "source": [
    "# your code here"
   ]
  },
  {
   "cell_type": "markdown",
   "metadata": {},
   "source": [
    "**PHYSHLTH** is the column we are interested in for this analysis, so let's start to investigate the column. Since we have a data cookbook, a.k.a. data dictionary) we want to start there before looking at the code. "
   ]
  },
  {
   "cell_type": "code",
   "execution_count": 12,
   "metadata": {},
   "outputs": [
    {
     "data": {
      "text/plain": [
       "count    34545.000000\n",
       "mean        60.213403\n",
       "std         37.504566\n",
       "min          1.000000\n",
       "25%         15.000000\n",
       "50%         88.000000\n",
       "75%         88.000000\n",
       "max         99.000000\n",
       "Name: PHYSHLTH, dtype: float64"
      ]
     },
     "execution_count": 12,
     "metadata": {},
     "output_type": "execute_result"
    }
   ],
   "source": [
    "df['PHYSHLTH'].describe()"
   ]
  },
  {
   "cell_type": "markdown",
   "metadata": {},
   "source": [
    "## 1. Handle the non-normal values\n",
    "\n",
    "As you can see from the data dictionary, there are a number of responses that are coded with values that could throw off our descriptive statistics.  Let's clean up by mapping the responses to a more appropriate value, and handling any missing values.  "
   ]
  },
  {
   "cell_type": "code",
   "execution_count": 13,
   "metadata": {},
   "outputs": [
    {
     "data": {
      "text/plain": [
       "49938      0.0\n",
       "49939      0.0\n",
       "49940      2.0\n",
       "49941      0.0\n",
       "49942      0.0\n",
       "49943      0.0\n",
       "49944      0.0\n",
       "49945      0.0\n",
       "49946     28.0\n",
       "49947      0.0\n",
       "49948      0.0\n",
       "49949      0.0\n",
       "49950      5.0\n",
       "49951      0.0\n",
       "49952      2.0\n",
       "49953      2.0\n",
       "49954      0.0\n",
       "49955     30.0\n",
       "49956      0.0\n",
       "49957      0.0\n",
       "49958      0.0\n",
       "49959      0.0\n",
       "49960      0.0\n",
       "49961      0.0\n",
       "49962      0.0\n",
       "49963      0.0\n",
       "49964      5.0\n",
       "49965      4.0\n",
       "49966      0.0\n",
       "49967      2.0\n",
       "          ... \n",
       "303749     0.0\n",
       "303750     3.0\n",
       "303751    30.0\n",
       "303752     2.0\n",
       "303753     0.0\n",
       "303754     1.0\n",
       "303755     0.0\n",
       "303756     3.0\n",
       "303757     2.0\n",
       "303758     2.0\n",
       "303759     1.0\n",
       "303760     6.0\n",
       "303761     0.0\n",
       "303762     1.0\n",
       "303763    15.0\n",
       "303764     0.0\n",
       "303765     0.0\n",
       "303766     0.0\n",
       "303767     0.0\n",
       "303768     0.0\n",
       "303769    10.0\n",
       "303770     0.0\n",
       "303771     0.0\n",
       "303772     0.0\n",
       "303773     2.0\n",
       "303774     0.0\n",
       "303775     0.0\n",
       "303776     6.0\n",
       "303777     0.0\n",
       "303778     0.0\n",
       "Name: PHYSHLTH, Length: 34545, dtype: float64"
      ]
     },
     "execution_count": 13,
     "metadata": {},
     "output_type": "execute_result"
    }
   ],
   "source": [
    "#your code here\n",
    "zero_dict = {88:0, 77:np.nan, 99:np.nan}\n",
    "df['PHYSHLTH'] = df['PHYSHLTH'].replace(zero_dict)\n",
    "df['PHYSHLTH']"
   ]
  },
  {
   "cell_type": "markdown",
   "metadata": {},
   "source": [
    "## 2. Generate the descriptive statistics\n",
    "\n",
    "Now that our target variable is cleaned up lets calculate the descriptive statistics, generate a graph that quickly shows those statistics, and generate a gprah shows the histogram of the data."
   ]
  },
  {
   "cell_type": "code",
   "execution_count": 91,
   "metadata": {},
   "outputs": [
    {
     "name": "stdout",
     "output_type": "stream",
     "text": [
      "count    33747.000000\n",
      "mean         4.085341\n",
      "std          8.513293\n",
      "min          0.000000\n",
      "25%          0.000000\n",
      "50%          0.000000\n",
      "75%          3.000000\n",
      "max         30.000000\n",
      "Name: PHYSHLTH, dtype: float64\n"
     ]
    },
    {
     "data": {
      "text/plain": [
       "<matplotlib.axes._subplots.AxesSubplot at 0x13bbffef0>"
      ]
     },
     "execution_count": 91,
     "metadata": {},
     "output_type": "execute_result"
    },
    {
     "data": {
      "image/png": "[encoded data removed]",
      "text/plain": [
       "<Figure size 432x288 with 1 Axes>"
      ]
     },
     "metadata": {
      "needs_background": "light"
     },
     "output_type": "display_data"
    }
   ],
   "source": [
    "# descriptive statistics\n",
    "print(df['PHYSHLTH'].describe())\n",
    "df.boxplot(column='PHYSHLTH')"
   ]
  },
  {
   "cell_type": "code",
   "execution_count": null,
   "metadata": {},
   "outputs": [],
   "source": [
    "# graphic showing those descriptive stats"
   ]
  },
  {
   "cell_type": "code",
   "execution_count": 14,
   "metadata": {},
   "outputs": [
    {
     "data": {
      "text/plain": [
       "array([[<matplotlib.axes._subplots.AxesSubplot object at 0x116416ba8>]],\n",
       "      dtype=object)"
      ]
     },
     "execution_count": 14,
     "metadata": {},
     "output_type": "execute_result"
    },
    {
     "data": {
      "image/png": "[encoded data removed]",
      "text/plain": [
       "<Figure size 432x288 with 1 Axes>"
      ]
     },
     "metadata": {
      "needs_background": "light"
     },
     "output_type": "display_data"
    }
   ],
   "source": [
    "# graphic showing the distribution of data\n",
    "df.hist(column='PHYSHLTH')"
   ]
  },
  {
   "cell_type": "markdown",
   "metadata": {},
   "source": [
    "## 3. Generate a graphic that compares the average number of sick days for each state. "
   ]
  },
  {
   "cell_type": "code",
   "execution_count": 15,
   "metadata": {},
   "outputs": [
    {
     "data": {
      "text/plain": [
       "_STATE\n",
       "9.0     3.688562\n",
       "34.0    4.380957\n",
       "36.0    4.148030\n",
       "Name: PHYSHLTH, dtype: float64"
      ]
     },
     "execution_count": 15,
     "metadata": {},
     "output_type": "execute_result"
    }
   ],
   "source": [
    "# code to calculate the average number of sick days by state\n",
    "df.groupby('_STATE')['PHYSHLTH'].mean()"
   ]
  },
  {
   "cell_type": "code",
   "execution_count": 94,
   "metadata": {},
   "outputs": [
    {
     "data": {
      "text/plain": [
       "<matplotlib.axes._subplots.AxesSubplot at 0x12fd71128>"
      ]
     },
     "execution_count": 94,
     "metadata": {},
     "output_type": "execute_result"
    },
    {
     "data": {
      "image/png": "[encoded data removed]",
      "text/plain": [
       "<Figure size 432x288 with 1 Axes>"
      ]
     },
     "metadata": {
      "needs_background": "light"
     },
     "output_type": "display_data"
    }
   ],
   "source": [
    "# code to graph those averages using matplotlib\n",
    "df.groupby('_STATE')['PHYSHLTH'].mean().plot(kind='bar')"
   ]
  },
  {
   "cell_type": "markdown",
   "metadata": {},
   "source": [
    "## 4. Turn the number of sick days into a classification of of chronically sick people.  \n",
    "\n",
    "Chronically sick people account for a significant proportion of the costs for health insurers. If we can identify what leads people to be chronically sick, we can address them with specific treatments.\n",
    "\n"
   ]
  },
  {
   "cell_type": "code",
   "execution_count": 95,
   "metadata": {},
   "outputs": [
    {
     "data": {
      "text/plain": [
       "49938     False\n",
       "49939     False\n",
       "49940     False\n",
       "49941     False\n",
       "49942     False\n",
       "49943     False\n",
       "49944     False\n",
       "49945     False\n",
       "49946      True\n",
       "49947     False\n",
       "49948     False\n",
       "49949     False\n",
       "49950     False\n",
       "49951     False\n",
       "49952     False\n",
       "49953     False\n",
       "49954     False\n",
       "49955      True\n",
       "49956     False\n",
       "49957     False\n",
       "49958     False\n",
       "49959     False\n",
       "49960     False\n",
       "49961     False\n",
       "49962     False\n",
       "49963     False\n",
       "49964     False\n",
       "49965     False\n",
       "49966     False\n",
       "49967     False\n",
       "          ...  \n",
       "303749    False\n",
       "303750    False\n",
       "303751     True\n",
       "303752    False\n",
       "303753    False\n",
       "303754    False\n",
       "303755    False\n",
       "303756    False\n",
       "303757    False\n",
       "303758    False\n",
       "303759    False\n",
       "303760    False\n",
       "303761    False\n",
       "303762    False\n",
       "303763    False\n",
       "303764    False\n",
       "303765    False\n",
       "303766    False\n",
       "303767    False\n",
       "303768    False\n",
       "303769    False\n",
       "303770    False\n",
       "303771    False\n",
       "303772    False\n",
       "303773    False\n",
       "303774    False\n",
       "303775    False\n",
       "303776    False\n",
       "303777    False\n",
       "303778    False\n",
       "Name: Chronic, Length: 34545, dtype: bool"
      ]
     },
     "execution_count": 95,
     "metadata": {},
     "output_type": "execute_result"
    }
   ],
   "source": [
    "# code to create new colum for chronically sick\n",
    "df['PHYSHLTH'].value_counts()\n",
    "def Chronic(row):\n",
    "    if row['PHYSHLTH']>=20.0:\n",
    "        return True\n",
    "    else: return False\n",
    "df.apply (lambda row: Chronic(row), axis=1)\n",
    "df['Chronic']= df.apply (lambda row: Chronic(row), axis=1)\n",
    "df['Chronic']"
   ]
  },
  {
   "cell_type": "markdown",
   "metadata": {},
   "source": [
    "## 5. Create a graphic that compares the percentage of people labeled as 'sick' in each state. "
   ]
  },
  {
   "cell_type": "code",
   "execution_count": 96,
   "metadata": {},
   "outputs": [
    {
     "data": {
      "text/plain": [
       "_STATE\n",
       "9.0     0.083019\n",
       "34.0    0.103946\n",
       "36.0    0.091191\n",
       "Name: Chronic, dtype: float64"
      ]
     },
     "execution_count": 96,
     "metadata": {},
     "output_type": "execute_result"
    }
   ],
   "source": [
    "# code to calculate averages per state\n",
    "df.groupby('_STATE')['Chronic'].mean()"
   ]
  },
  {
   "cell_type": "code",
   "execution_count": 97,
   "metadata": {},
   "outputs": [
    {
     "data": {
      "text/plain": [
       "<matplotlib.axes._subplots.AxesSubplot at 0x12fca2668>"
      ]
     },
     "execution_count": 97,
     "metadata": {},
     "output_type": "execute_result"
    },
    {
     "data": {
      "image/png": "[encoded data removed]",
      "text/plain": [
       "<Figure size 432x288 with 1 Axes>"
      ]
     },
     "metadata": {
      "needs_background": "light"
     },
     "output_type": "display_data"
    }
   ],
   "source": [
    "# create graphic to compare chronically sick by state\n",
    "df.groupby('_STATE')['Chronic'].mean().plot(kind='bar')"
   ]
  },
  {
   "cell_type": "markdown",
   "metadata": {},
   "source": [
    "## 6. Independent Variables (categorical)\n",
    "\n",
    "Let's take the column `SMOKDAY2` and start to prepare it so that we can see how it is possibly correlated to `PHYSHLTH`.\n",
    "\n",
    "1. Clean up the values.\n",
    "2. Calculate the descriptive statistics of the variable.\n",
    "3. Generate a histogram for the variable.\n",
    "4. Generate graphics that show how the responses to this variable might differ by state.\n",
    "5. Generate a graphic that compares the physical health of the different groups of 'smokers'."
   ]
  },
  {
   "cell_type": "code",
   "execution_count": 98,
   "metadata": {},
   "outputs": [
    {
     "data": {
      "text/plain": [
       "array([[<matplotlib.axes._subplots.AxesSubplot object at 0x13c762518>]],\n",
       "      dtype=object)"
      ]
     },
     "execution_count": 98,
     "metadata": {},
     "output_type": "execute_result"
    },
    {
     "data": {
      "image/png": "[encoded data removed]",
      "text/plain": [
       "<Figure size 432x288 with 1 Axes>"
      ]
     },
     "metadata": {
      "needs_background": "light"
     },
     "output_type": "display_data"
    }
   ],
   "source": [
    "\n",
    "df['smoking'] = np.where(df['SMOKE100']==2, 3, df['SMOKDAY2'])\n",
    "#print(df['SMOKDAY2'].value_counts())\n",
    "#1\n",
    "drop_rows = df[df['SMOKDAY2']==7].index\n",
    "drop_rows2 = df[df['SMOKDAY2']==9].index\n",
    "df.drop(drop_rows, inplace=True)\n",
    "df.drop(drop_rows2, inplace=True)\n",
    "df['SMOKDAY2'].value_counts()\n",
    "\n",
    "#3\n",
    "df['SMOKDAY2'].describe()\n",
    "df.hist(column='SMOKDAY2')\n",
    "\n"
   ]
  },
  {
   "cell_type": "code",
   "execution_count": 21,
   "metadata": {},
   "outputs": [
    {
     "data": {
      "text/plain": [
       "<matplotlib.axes._subplots.AxesSubplot at 0x12535fd30>"
      ]
     },
     "execution_count": 21,
     "metadata": {},
     "output_type": "execute_result"
    },
    {
     "data": {
      "image/png": "[encoded data removed]",
      "text/plain": [
       "<Figure size 432x288 with 1 Axes>"
      ]
     },
     "metadata": {
      "needs_background": "light"
     },
     "output_type": "display_data"
    }
   ],
   "source": [
    "#4\n",
    "df.groupby('_STATE')['SMOKDAY2'].mean()\n",
    "df.groupby('_STATE')['SMOKDAY2'].mean().plot(kind='bar',)"
   ]
  },
  {
   "cell_type": "markdown",
   "metadata": {},
   "source": [
    "## 7. Independent Variables (continuous):\n",
    "\n",
    "Now let's look at a continuous variable (ALCDAY5) and see how that might impact a person's health. \n",
    "\n",
    "1. Clean up the values.\n",
    "2. Calculate the descriptive statistics of the variable.\n",
    "3. Generate a histogram for the variable.\n",
    "4. Generate graphics that show how the responses to this variable might differ by state.\n",
    "5. Calculate the correlation coefficient between `PHYSHLTH` and `ALCDAY5`.\n",
    "5. Generate a graphic that shows the possible relationship between `PHYSHLTH` and `ALCDAY5`."
   ]
  },
  {
   "cell_type": "code",
   "execution_count": 100,
   "metadata": {},
   "outputs": [
    {
     "name": "stdout",
     "output_type": "stream",
     "text": [
      "49938      4.35\n",
      "49939     30.00\n",
      "49941     13.05\n",
      "49942      4.35\n",
      "49943     17.40\n",
      "49944     30.00\n",
      "49945      4.00\n",
      "49947      5.00\n",
      "49949     30.00\n",
      "49950     30.45\n",
      "49952      5.00\n",
      "49953     15.00\n",
      "49954      2.00\n",
      "49955      1.00\n",
      "49956     30.45\n",
      "49957     20.00\n",
      "49959      3.00\n",
      "49962     15.00\n",
      "49963      2.00\n",
      "49964     30.00\n",
      "49965     30.45\n",
      "49967     14.00\n",
      "49970      7.00\n",
      "49971      8.70\n",
      "49972      1.00\n",
      "49973     15.00\n",
      "49974      7.00\n",
      "49975     10.00\n",
      "49976       NaN\n",
      "49978     17.40\n",
      "          ...  \n",
      "303744     2.00\n",
      "303745    13.05\n",
      "303746     8.70\n",
      "303747    21.75\n",
      "303748     3.00\n",
      "303749    20.00\n",
      "303750     4.00\n",
      "303751     3.00\n",
      "303752     8.70\n",
      "303753     2.00\n",
      "303754     1.00\n",
      "303755    15.00\n",
      "303756     6.00\n",
      "303757     7.00\n",
      "303758    25.00\n",
      "303759     5.00\n",
      "303760    13.05\n",
      "303761    10.00\n",
      "303763     3.00\n",
      "303764     2.00\n",
      "303765    17.40\n",
      "303768     1.00\n",
      "303769     8.70\n",
      "303770     2.00\n",
      "303771     4.00\n",
      "303772     4.00\n",
      "303773     8.00\n",
      "303774     3.00\n",
      "303776     4.00\n",
      "303778    30.00\n",
      "Name: num_alc_days, Length: 21061, dtype: float64\n",
      "49938     101.0\n",
      "49939     230.0\n",
      "49941     103.0\n",
      "49942     101.0\n",
      "49943     104.0\n",
      "49944     230.0\n",
      "49945     204.0\n",
      "49947     205.0\n",
      "49949     230.0\n",
      "49950     107.0\n",
      "49952     205.0\n",
      "49953     215.0\n",
      "49954     202.0\n",
      "49955     201.0\n",
      "49956     107.0\n",
      "49957     220.0\n",
      "49959     203.0\n",
      "49962     215.0\n",
      "49963     202.0\n",
      "49964     230.0\n",
      "49965     107.0\n",
      "49967     214.0\n",
      "49970     207.0\n",
      "49971     102.0\n",
      "49972     201.0\n",
      "49973     215.0\n",
      "49974     207.0\n",
      "49975     210.0\n",
      "49976       NaN\n",
      "49978     104.0\n",
      "          ...  \n",
      "303744    202.0\n",
      "303745    103.0\n",
      "303746    102.0\n",
      "303747    105.0\n",
      "303748    203.0\n",
      "303749    220.0\n",
      "303750    204.0\n",
      "303751    203.0\n",
      "303752    102.0\n",
      "303753    202.0\n",
      "303754    201.0\n",
      "303755    215.0\n",
      "303756    206.0\n",
      "303757    207.0\n",
      "303758    225.0\n",
      "303759    205.0\n",
      "303760    103.0\n",
      "303761    210.0\n",
      "303763    203.0\n",
      "303764    202.0\n",
      "303765    104.0\n",
      "303768    201.0\n",
      "303769    102.0\n",
      "303770    202.0\n",
      "303771    204.0\n",
      "303772    204.0\n",
      "303773    208.0\n",
      "303774    203.0\n",
      "303776    204.0\n",
      "303778    230.0\n",
      "Name: ALCDAY5, Length: 21061, dtype: float64\n"
     ]
    },
    {
     "data": {
      "text/plain": [
       "array([[<matplotlib.axes._subplots.AxesSubplot object at 0x13c735f98>]],\n",
       "      dtype=object)"
      ]
     },
     "execution_count": 100,
     "metadata": {},
     "output_type": "execute_result"
    },
    {
     "data": {
      "image/png": "[encoded data removed]",
      "text/plain": [
       "<Figure size 432x288 with 1 Axes>"
      ]
     },
     "metadata": {
      "needs_background": "light"
     },
     "output_type": "display_data"
    }
   ],
   "source": [
    "#1\n",
    "df['ALCDAY5'].value_counts() \n",
    "drop_alc_777 = df[df['ALCDAY5']==777].index\n",
    "drop_alc_888 = df[df['ALCDAY5']==888].index\n",
    "drop_alc_999 = df[df['ALCDAY5']==999].index\n",
    "df.drop(drop_alc_777, inplace=True)\n",
    "df.drop(drop_alc_888, inplace=True)\n",
    "df.drop(drop_alc_999, inplace=True)\n",
    "df['ALCDAY5'].value_counts()\n",
    "\n",
    "def alc(row):\n",
    "    if row['ALCDAY5']>200:\n",
    "        return row['ALCDAY5']-200\n",
    "    if row['ALCDAY5']>100:\n",
    "        return (row['ALCDAY5']-100)*4.35\n",
    "df['num_alc_days'] = df.apply (lambda row: alc(row), axis=1)\n",
    "print(df['num_alc_days'])\n",
    "print(df['ALCDAY5'])\n",
    "\n",
    "#3\n",
    "df.hist(column='num_alc_days')\n",
    "\n",
    "\n",
    "\n",
    "\n"
   ]
  },
  {
   "cell_type": "code",
   "execution_count": 101,
   "metadata": {},
   "outputs": [
    {
     "data": {
      "text/plain": [
       "<matplotlib.axes._subplots.AxesSubplot at 0x13c0cc860>"
      ]
     },
     "execution_count": 101,
     "metadata": {},
     "output_type": "execute_result"
    },
    {
     "data": {
      "image/png": "[encoded data removed]",
      "text/plain": [
       "<Figure size 432x288 with 1 Axes>"
      ]
     },
     "metadata": {
      "needs_background": "light"
     },
     "output_type": "display_data"
    }
   ],
   "source": [
    "#4\n",
    "df.groupby('_STATE')['num_alc_days'].mean().plot(kind='bar')"
   ]
  },
  {
   "cell_type": "markdown",
   "metadata": {},
   "source": [
    "## 8. Additional variables: Choose two additional survey items you would like to investigate do steps  6 or 7 for those variables."
   ]
  },
  {
   "cell_type": "code",
   "execution_count": 107,
   "metadata": {},
   "outputs": [
    {
     "data": {
      "text/plain": [
       "array([[<matplotlib.axes._subplots.AxesSubplot object at 0x13b4dc0b8>]],\n",
       "      dtype=object)"
      ]
     },
     "execution_count": 107,
     "metadata": {},
     "output_type": "execute_result"
    },
    {
     "data": {
      "image/png": "[encoded data removed]",
      "text/plain": [
       "<Figure size 432x288 with 1 Axes>"
      ]
     },
     "metadata": {
      "needs_background": "light"
     },
     "output_type": "display_data"
    }
   ],
   "source": [
    "# your code here \n",
    "#health status (GENHLTH)\n",
    "drop_hlth_7 = df[df['GENHLTH']==7].index\n",
    "drop_hlth_9 = df[df['GENHLTH']==9].index\n",
    "drop_hlth_blank = df[df['GENHLTH']=='BLANK'].index\n",
    "df.drop(drop_hlth_7, inplace=True)\n",
    "df.drop(drop_hlth_9, inplace=True)\n",
    "df.drop(drop_hlth_blank, inplace=True)\n",
    "df['GENHLTH'].value_counts()\n",
    "df['GENHLTH'].describe()\n",
    "\n",
    "df.hist(column='GENHLTH')"
   ]
  },
  {
   "cell_type": "code",
   "execution_count": 108,
   "metadata": {},
   "outputs": [
    {
     "data": {
      "text/plain": [
       "<matplotlib.axes._subplots.AxesSubplot at 0x1207e85f8>"
      ]
     },
     "execution_count": 108,
     "metadata": {},
     "output_type": "execute_result"
    },
    {
     "data": {
      "image/png": "[encoded data removed]",
      "text/plain": [
       "<Figure size 432x288 with 1 Axes>"
      ]
     },
     "metadata": {
      "needs_background": "light"
     },
     "output_type": "display_data"
    }
   ],
   "source": [
    "\n",
    "df.groupby('_STATE')['GENHLTH'].mean().plot(kind='bar',)"
   ]
  },
  {
   "cell_type": "code",
   "execution_count": 114,
   "metadata": {},
   "outputs": [
    {
     "ename": "AttributeError",
     "evalue": "'DataFrame' object has no attribute 'bar'",
     "output_type": "error",
     "traceback": [
      "\u001b[0;31m---------------------------------------------------------------------------\u001b[0m",
      "\u001b[0;31mAttributeError\u001b[0m                            Traceback (most recent call last)",
      "\u001b[0;32m<ipython-input-114-df25ade1a3d1>\u001b[0m in \u001b[0;36m<module>\u001b[0;34m\u001b[0m\n\u001b[1;32m      7\u001b[0m \u001b[0mdf\u001b[0m\u001b[0;34m.\u001b[0m\u001b[0mdrop\u001b[0m\u001b[0;34m(\u001b[0m\u001b[0mdrop_heart_blank\u001b[0m\u001b[0;34m,\u001b[0m \u001b[0minplace\u001b[0m\u001b[0;34m=\u001b[0m\u001b[0;32mTrue\u001b[0m\u001b[0;34m)\u001b[0m\u001b[0;34m\u001b[0m\u001b[0;34m\u001b[0m\u001b[0m\n\u001b[1;32m      8\u001b[0m \u001b[0mdf\u001b[0m\u001b[0;34m[\u001b[0m\u001b[0;34m'CVDCRHD4'\u001b[0m\u001b[0;34m]\u001b[0m\u001b[0;34m.\u001b[0m\u001b[0mvalue_counts\u001b[0m\u001b[0;34m(\u001b[0m\u001b[0;34m)\u001b[0m\u001b[0;34m\u001b[0m\u001b[0;34m\u001b[0m\u001b[0m\n\u001b[0;32m----> 9\u001b[0;31m \u001b[0mdf\u001b[0m\u001b[0;34m.\u001b[0m\u001b[0mbar\u001b[0m\u001b[0;34m(\u001b[0m\u001b[0mcolumn\u001b[0m\u001b[0;34m=\u001b[0m\u001b[0;34m'CVDCRHD4'\u001b[0m\u001b[0;34m)\u001b[0m\u001b[0;34m\u001b[0m\u001b[0;34m\u001b[0m\u001b[0m\n\u001b[0m",
      "\u001b[0;32m~/anaconda3/lib/python3.7/site-packages/pandas/core/generic.py\u001b[0m in \u001b[0;36m__getattr__\u001b[0;34m(self, name)\u001b[0m\n\u001b[1;32m   5065\u001b[0m             \u001b[0;32mif\u001b[0m \u001b[0mself\u001b[0m\u001b[0;34m.\u001b[0m\u001b[0m_info_axis\u001b[0m\u001b[0;34m.\u001b[0m\u001b[0m_can_hold_identifiers_and_holds_name\u001b[0m\u001b[0;34m(\u001b[0m\u001b[0mname\u001b[0m\u001b[0;34m)\u001b[0m\u001b[0;34m:\u001b[0m\u001b[0;34m\u001b[0m\u001b[0;34m\u001b[0m\u001b[0m\n\u001b[1;32m   5066\u001b[0m                 \u001b[0;32mreturn\u001b[0m \u001b[0mself\u001b[0m\u001b[0;34m[\u001b[0m\u001b[0mname\u001b[0m\u001b[0;34m]\u001b[0m\u001b[0;34m\u001b[0m\u001b[0;34m\u001b[0m\u001b[0m\n\u001b[0;32m-> 5067\u001b[0;31m             \u001b[0;32mreturn\u001b[0m \u001b[0mobject\u001b[0m\u001b[0;34m.\u001b[0m\u001b[0m__getattribute__\u001b[0m\u001b[0;34m(\u001b[0m\u001b[0mself\u001b[0m\u001b[0;34m,\u001b[0m \u001b[0mname\u001b[0m\u001b[0;34m)\u001b[0m\u001b[0;34m\u001b[0m\u001b[0;34m\u001b[0m\u001b[0m\n\u001b[0m\u001b[1;32m   5068\u001b[0m \u001b[0;34m\u001b[0m\u001b[0m\n\u001b[1;32m   5069\u001b[0m     \u001b[0;32mdef\u001b[0m \u001b[0m__setattr__\u001b[0m\u001b[0;34m(\u001b[0m\u001b[0mself\u001b[0m\u001b[0;34m,\u001b[0m \u001b[0mname\u001b[0m\u001b[0;34m,\u001b[0m \u001b[0mvalue\u001b[0m\u001b[0;34m)\u001b[0m\u001b[0;34m:\u001b[0m\u001b[0;34m\u001b[0m\u001b[0;34m\u001b[0m\u001b[0m\n",
      "\u001b[0;31mAttributeError\u001b[0m: 'DataFrame' object has no attribute 'bar'"
     ]
    }
   ],
   "source": [
    "#diagnosed with angina or coronary heart disease (CVDCRHD4)\n",
    "drop_heart_7 = df[df['CVDCRHD4']==7].index\n",
    "drop_heart_9 = df[df['CVDCRHD4']==9].index\n",
    "drop_heart_blank = df[df['CVDCRHD4']=='BLANK'].index\n",
    "df.drop(drop_heart_7, inplace=True)\n",
    "df.drop(drop_heart_9, inplace=True)\n",
    "df.drop(drop_heart_blank, inplace=True)\n",
    "df['CVDCRHD4'].value_counts()\n",
    "df"
   ]
  },
  {
   "cell_type": "markdown",
   "metadata": {},
   "source": [
    "## 9. Based on your initial data exploration, what are some hypotheses of what affects a person's health that you would like to further investigate?"
   ]
  },
  {
   "cell_type": "markdown",
   "metadata": {},
   "source": [
    "Type out your initial hyptotheses below:\n",
    "\n",
    "1. \n",
    "\n",
    "2. \n",
    "\n",
    "3.  "
   ]
  },
  {
   "cell_type": "markdown",
   "metadata": {},
   "source": [
    "## Bonus: Create some cool graphics.  "
   ]
  },
  {
   "cell_type": "code",
   "execution_count": null,
   "metadata": {},
   "outputs": [],
   "source": []
  }
 ],
 "metadata": {
  "kernelspec": {
   "display_name": "Python 3",
   "language": "python",
   "name": "python3"
  },
  "language_info": {
   "codemirror_mode": {
    "name": "ipython",
    "version": 3
   },
   "file_extension": ".py",
   "mimetype": "text/x-python",
   "name": "python",
   "nbconvert_exporter": "python",
   "pygments_lexer": "ipython3",
   "version": "3.7.3"
  }
 },
 "nbformat": 4,
 "nbformat_minor": 2
}
