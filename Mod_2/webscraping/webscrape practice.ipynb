{
 "cells": [
  {
   "cell_type": "code",
   "execution_count": 1,
   "metadata": {},
   "outputs": [],
   "source": [
    "from bs4 import BeautifulSoup\n",
    "import requests"
   ]
  },
  {
   "cell_type": "code",
   "execution_count": 132,
   "metadata": {},
   "outputs": [],
   "source": [
    "\n",
    "request = requests.get(\"http://books.toscrape.com/\")\n",
    "soup = BeautifulSoup(request.content, 'html.parser')\n",
    "container = soup.find_all(class_=\"col-xs-6 col-sm-4 col-md-3 col-lg-3\")\n"
   ]
  },
  {
   "cell_type": "code",
   "execution_count": 133,
   "metadata": {},
   "outputs": [
    {
     "data": {
      "text/plain": [
       "50"
      ]
     },
     "execution_count": 133,
     "metadata": {},
     "output_type": "execute_result"
    }
   ],
   "source": [
    "containers = [container]\n",
    "for i in list(range(2,51)):\n",
    "    request = requests.get(f\"http://books.toscrape.com/catalogue/page-{i}.html\")\n",
    "    soup = BeautifulSoup(request.content, 'html.parser')\n",
    "    container = soup.find_all(class_=\"col-xs-6 col-sm-4 col-md-3 col-lg-3\")\n",
    "    containers.append(container)\n"
   ]
  },
  {
   "cell_type": "code",
   "execution_count": 172,
   "metadata": {},
   "outputs": [
    {
     "data": {
      "text/plain": [
       "20"
      ]
     },
     "execution_count": 172,
     "metadata": {},
     "output_type": "execute_result"
    }
   ],
   "source": [
    "len(containers[2])"
   ]
  },
  {
   "cell_type": "code",
   "execution_count": 3,
   "metadata": {},
   "outputs": [],
   "source": [
    "soup = BeautifulSoup(request.content, 'html.parser')"
   ]
  },
  {
   "cell_type": "code",
   "execution_count": 50,
   "metadata": {},
   "outputs": [
    {
     "data": {
      "text/plain": [
       "20"
      ]
     },
     "execution_count": 50,
     "metadata": {},
     "output_type": "execute_result"
    }
   ],
   "source": [
    "container = soup.find_all(class_=\"col-xs-6 col-sm-4 col-md-3 col-lg-3\")\n",
    "container[0].h3.a['title']\n",
    "len(container)"
   ]
  },
  {
   "cell_type": "code",
   "execution_count": 135,
   "metadata": {
    "collapsed": true
   },
   "outputs": [
    {
     "data": {
      "text/plain": [
       "['A Light in the Attic',\n",
       " 'Tipping the Velvet',\n",
       " 'Soumission',\n",
       " 'Sharp Objects',\n",
       " 'Sapiens: A Brief History of Humankind',\n",
       " 'The Requiem Red',\n",
       " 'The Dirty Little Secrets of Getting Your Dream Job',\n",
       " 'The Coming Woman: A Novel Based on the Life of the Infamous Feminist, Victoria Woodhull',\n",
       " 'The Boys in the Boat: Nine Americans and Their Epic Quest for Gold at the 1936 Berlin Olympics',\n",
       " 'The Black Maria',\n",
       " 'Starving Hearts (Triangular Trade Trilogy, #1)',\n",
       " \"Shakespeare's Sonnets\",\n",
       " 'Set Me Free',\n",
       " \"Scott Pilgrim's Precious Little Life (Scott Pilgrim #1)\",\n",
       " 'Rip it Up and Start Again',\n",
       " 'Our Band Could Be Your Life: Scenes from the American Indie Underground, 1981-1991',\n",
       " 'Olio',\n",
       " 'Mesaerion: The Best Science Fiction Stories 1800-1849',\n",
       " 'Libertarianism for Beginners',\n",
       " \"It's Only the Himalayas\"]"
      ]
     },
     "execution_count": 135,
     "metadata": {},
     "output_type": "execute_result"
    }
   ],
   "source": [
    "def get_titles(container):\n",
    "    title_lst = []\n",
    "    for i in container:\n",
    "        title_lst.append(i.h3.a['title'])\n",
    "    return title_lst\n",
    "\n",
    "get_titles(containers[0])"
   ]
  },
  {
   "cell_type": "code",
   "execution_count": 106,
   "metadata": {
    "collapsed": true
   },
   "outputs": [
    {
     "data": {
      "text/plain": [
       "['Three',\n",
       " 'One',\n",
       " 'One',\n",
       " 'Four',\n",
       " 'Five',\n",
       " 'One',\n",
       " 'Four',\n",
       " 'Three',\n",
       " 'Four',\n",
       " 'One',\n",
       " 'Two',\n",
       " 'Four',\n",
       " 'Five',\n",
       " 'Five',\n",
       " 'Five',\n",
       " 'Three',\n",
       " 'One',\n",
       " 'One',\n",
       " 'Two',\n",
       " 'Two']"
      ]
     },
     "execution_count": 106,
     "metadata": {},
     "output_type": "execute_result"
    }
   ],
   "source": [
    "def get_rating(container):\n",
    "    rating_lst = []\n",
    "    for i in container:\n",
    "        rating_lst.append(i.p['class'])\n",
    "    num_rating = []\n",
    "    for i in rating_lst:\n",
    "        num_rating.append(i[1])\n",
    "    return num_rating\n",
    "get_rating(container)"
   ]
  },
  {
   "cell_type": "code",
   "execution_count": 100,
   "metadata": {
    "collapsed": true
   },
   "outputs": [
    {
     "data": {
      "text/plain": [
       "[51.77,\n",
       " 53.74,\n",
       " 50.1,\n",
       " 47.82,\n",
       " 54.23,\n",
       " 22.65,\n",
       " 33.34,\n",
       " 17.93,\n",
       " 22.6,\n",
       " 52.15,\n",
       " 13.99,\n",
       " 20.66,\n",
       " 17.46,\n",
       " 52.29,\n",
       " 35.02,\n",
       " 57.25,\n",
       " 23.88,\n",
       " 37.59,\n",
       " 51.33,\n",
       " 45.17]"
      ]
     },
     "execution_count": 100,
     "metadata": {},
     "output_type": "execute_result"
    }
   ],
   "source": [
    "def get_price(container):\n",
    "    \n",
    "    price_lst = soup.find_all(class_='product_price')\n",
    "    clean_lst = []\n",
    "    for i in price_lst:\n",
    "        y = str(i.p)\n",
    "        start = y.find('\">') + 3\n",
    "        end = y.find('</', start)\n",
    "        z = float(y[start:end])\n",
    "        clean_lst.append(z)\n",
    "    return clean_lst\n",
    "\n",
    "get_price(container)\n"
   ]
  },
  {
   "cell_type": "code",
   "execution_count": 167,
   "metadata": {},
   "outputs": [
    {
     "data": {
      "text/plain": [
       "20"
      ]
     },
     "execution_count": 167,
     "metadata": {},
     "output_type": "execute_result"
    }
   ],
   "source": [
    "def get_all(containers):\n",
    "    Name = []\n",
    "    Rating = []\n",
    "    Price = []\n",
    "    for container in containers:\n",
    "        Name.append(get_titles(container))\n",
    "        Rating.append(get_rating(container))\n",
    "        Price.append(get_price(container))\n",
    "    return Name, Rating, Price\n",
    "\n"
   ]
  },
  {
   "cell_type": "code",
   "execution_count": 164,
   "metadata": {},
   "outputs": [
    {
     "data": {
      "text/plain": [
       "{'Name': ['Frankenstein',\n",
       "  'Forever Rockers (The Rocker #12)',\n",
       "  'Fighting Fate (Fighting #6)',\n",
       "  'Emma',\n",
       "  'Eat, Pray, Love',\n",
       "  'Deep Under (Walker Security #1)',\n",
       "  \"Choosing Our Religion: The Spiritual Lives of America's Nones\",\n",
       "  'Charlie and the Chocolate Factory (Charlie Bucket #1)',\n",
       "  \"Charity's Cross (Charles Towne Belles #4)\",\n",
       "  'Bright Lines',\n",
       "  \"Bridget Jones's Diary (Bridget Jones #1)\",\n",
       "  'Bounty (Colorado Mountain #7)',\n",
       "  'Blood Defense (Samantha Brinkman #1)',\n",
       "  'Bleach, Vol. 1: Strawberry and the Soul Reapers (Bleach #1)',\n",
       "  'Beyond Good and Evil',\n",
       "  \"Alice in Wonderland (Alice's Adventures in Wonderland #1)\",\n",
       "  'Ajin: Demi-Human, Volume 1 (Ajin: Demi-Human #1)',\n",
       "  \"A Spy's Devotion (The Regency Spies of London #1)\",\n",
       "  \"1st to Die (Women's Murder Club #1)\",\n",
       "  '1,000 Places to See Before You Die'],\n",
       " 'Rating': ['Two',\n",
       "  'Three',\n",
       "  'Three',\n",
       "  'Two',\n",
       "  'Three',\n",
       "  'Five',\n",
       "  'Four',\n",
       "  'Three',\n",
       "  'One',\n",
       "  'Five',\n",
       "  'One',\n",
       "  'Four',\n",
       "  'Three',\n",
       "  'Five',\n",
       "  'One',\n",
       "  'One',\n",
       "  'Four',\n",
       "  'Five',\n",
       "  'One',\n",
       "  'Five'],\n",
       " 'Price': [38.0,\n",
       "  28.8,\n",
       "  39.24,\n",
       "  32.93,\n",
       "  51.32,\n",
       "  47.09,\n",
       "  28.42,\n",
       "  22.85,\n",
       "  41.24,\n",
       "  39.07,\n",
       "  29.82,\n",
       "  37.26,\n",
       "  20.3,\n",
       "  34.65,\n",
       "  43.38,\n",
       "  55.53,\n",
       "  57.06,\n",
       "  16.97,\n",
       "  53.98,\n",
       "  26.08]}"
      ]
     },
     "execution_count": 164,
     "metadata": {},
     "output_type": "execute_result"
    }
   ],
   "source": [
    "for container in containers:\n",
    "    all_data = {'Name': get_titles(container), \n",
    "        'Rating': get_rating(container), \n",
    "        'Price': get_price(container)} \n",
    "    \n",
    "all_data"
   ]
  },
  {
   "cell_type": "code",
   "execution_count": 153,
   "metadata": {},
   "outputs": [
    {
     "data": {
      "text/html": [
       "<div>\n",
       "<style scoped>\n",
       "    .dataframe tbody tr th:only-of-type {\n",
       "        vertical-align: middle;\n",
       "    }\n",
       "\n",
       "    .dataframe tbody tr th {\n",
       "        vertical-align: top;\n",
       "    }\n",
       "\n",
       "    .dataframe thead th {\n",
       "        text-align: right;\n",
       "    }\n",
       "</style>\n",
       "<table border=\"1\" class=\"dataframe\">\n",
       "  <thead>\n",
       "    <tr style=\"text-align: right;\">\n",
       "      <th></th>\n",
       "      <th>Name</th>\n",
       "      <th>Rating</th>\n",
       "      <th>Price</th>\n",
       "    </tr>\n",
       "  </thead>\n",
       "  <tbody>\n",
       "    <tr>\n",
       "      <th>0</th>\n",
       "      <td>A Light in the Attic</td>\n",
       "      <td>3</td>\n",
       "      <td>38.00</td>\n",
       "    </tr>\n",
       "    <tr>\n",
       "      <th>1</th>\n",
       "      <td>Tipping the Velvet</td>\n",
       "      <td>1</td>\n",
       "      <td>28.80</td>\n",
       "    </tr>\n",
       "    <tr>\n",
       "      <th>2</th>\n",
       "      <td>Soumission</td>\n",
       "      <td>1</td>\n",
       "      <td>39.24</td>\n",
       "    </tr>\n",
       "    <tr>\n",
       "      <th>3</th>\n",
       "      <td>Sharp Objects</td>\n",
       "      <td>4</td>\n",
       "      <td>32.93</td>\n",
       "    </tr>\n",
       "    <tr>\n",
       "      <th>4</th>\n",
       "      <td>Sapiens: A Brief History of Humankind</td>\n",
       "      <td>5</td>\n",
       "      <td>51.32</td>\n",
       "    </tr>\n",
       "    <tr>\n",
       "      <th>5</th>\n",
       "      <td>The Requiem Red</td>\n",
       "      <td>1</td>\n",
       "      <td>47.09</td>\n",
       "    </tr>\n",
       "    <tr>\n",
       "      <th>6</th>\n",
       "      <td>The Dirty Little Secrets of Getting Your Dream...</td>\n",
       "      <td>4</td>\n",
       "      <td>28.42</td>\n",
       "    </tr>\n",
       "    <tr>\n",
       "      <th>7</th>\n",
       "      <td>The Coming Woman: A Novel Based on the Life of...</td>\n",
       "      <td>3</td>\n",
       "      <td>22.85</td>\n",
       "    </tr>\n",
       "    <tr>\n",
       "      <th>8</th>\n",
       "      <td>The Boys in the Boat: Nine Americans and Their...</td>\n",
       "      <td>4</td>\n",
       "      <td>41.24</td>\n",
       "    </tr>\n",
       "    <tr>\n",
       "      <th>9</th>\n",
       "      <td>The Black Maria</td>\n",
       "      <td>1</td>\n",
       "      <td>39.07</td>\n",
       "    </tr>\n",
       "    <tr>\n",
       "      <th>10</th>\n",
       "      <td>Starving Hearts (Triangular Trade Trilogy, #1)</td>\n",
       "      <td>2</td>\n",
       "      <td>29.82</td>\n",
       "    </tr>\n",
       "    <tr>\n",
       "      <th>11</th>\n",
       "      <td>Shakespeare's Sonnets</td>\n",
       "      <td>4</td>\n",
       "      <td>37.26</td>\n",
       "    </tr>\n",
       "    <tr>\n",
       "      <th>12</th>\n",
       "      <td>Set Me Free</td>\n",
       "      <td>5</td>\n",
       "      <td>20.30</td>\n",
       "    </tr>\n",
       "    <tr>\n",
       "      <th>13</th>\n",
       "      <td>Scott Pilgrim's Precious Little Life (Scott Pi...</td>\n",
       "      <td>5</td>\n",
       "      <td>34.65</td>\n",
       "    </tr>\n",
       "    <tr>\n",
       "      <th>14</th>\n",
       "      <td>Rip it Up and Start Again</td>\n",
       "      <td>5</td>\n",
       "      <td>43.38</td>\n",
       "    </tr>\n",
       "    <tr>\n",
       "      <th>15</th>\n",
       "      <td>Our Band Could Be Your Life: Scenes from the A...</td>\n",
       "      <td>3</td>\n",
       "      <td>55.53</td>\n",
       "    </tr>\n",
       "    <tr>\n",
       "      <th>16</th>\n",
       "      <td>Olio</td>\n",
       "      <td>1</td>\n",
       "      <td>57.06</td>\n",
       "    </tr>\n",
       "    <tr>\n",
       "      <th>17</th>\n",
       "      <td>Mesaerion: The Best Science Fiction Stories 18...</td>\n",
       "      <td>1</td>\n",
       "      <td>16.97</td>\n",
       "    </tr>\n",
       "    <tr>\n",
       "      <th>18</th>\n",
       "      <td>Libertarianism for Beginners</td>\n",
       "      <td>2</td>\n",
       "      <td>53.98</td>\n",
       "    </tr>\n",
       "    <tr>\n",
       "      <th>19</th>\n",
       "      <td>It's Only the Himalayas</td>\n",
       "      <td>2</td>\n",
       "      <td>26.08</td>\n",
       "    </tr>\n",
       "  </tbody>\n",
       "</table>\n",
       "</div>"
      ],
      "text/plain": [
       "                                                 Name  Rating  Price\n",
       "0                                A Light in the Attic       3  38.00\n",
       "1                                  Tipping the Velvet       1  28.80\n",
       "2                                          Soumission       1  39.24\n",
       "3                                       Sharp Objects       4  32.93\n",
       "4               Sapiens: A Brief History of Humankind       5  51.32\n",
       "5                                     The Requiem Red       1  47.09\n",
       "6   The Dirty Little Secrets of Getting Your Dream...       4  28.42\n",
       "7   The Coming Woman: A Novel Based on the Life of...       3  22.85\n",
       "8   The Boys in the Boat: Nine Americans and Their...       4  41.24\n",
       "9                                     The Black Maria       1  39.07\n",
       "10     Starving Hearts (Triangular Trade Trilogy, #1)       2  29.82\n",
       "11                              Shakespeare's Sonnets       4  37.26\n",
       "12                                        Set Me Free       5  20.30\n",
       "13  Scott Pilgrim's Precious Little Life (Scott Pi...       5  34.65\n",
       "14                          Rip it Up and Start Again       5  43.38\n",
       "15  Our Band Could Be Your Life: Scenes from the A...       3  55.53\n",
       "16                                               Olio       1  57.06\n",
       "17  Mesaerion: The Best Science Fiction Stories 18...       1  16.97\n",
       "18                       Libertarianism for Beginners       2  53.98\n",
       "19                            It's Only the Himalayas       2  26.08"
      ]
     },
     "execution_count": 153,
     "metadata": {},
     "output_type": "execute_result"
    }
   ],
   "source": [
    "import pandas as pd\n",
    "data = {'Name': get_all(containers)[0][0], \n",
    "        'Rating': get_all(containers)[1][0], \n",
    "        'Price': get_all(containers)[2][0]} \n",
    "df = pd.DataFrame(data)\n",
    "df['Rating'] = df['Rating'].map({'One':1, 'Two':2, 'Three':3, 'Four':4, 'Five':5})\n",
    "df\n"
   ]
  },
  {
   "cell_type": "code",
   "execution_count": 114,
   "metadata": {
    "collapsed": true
   },
   "outputs": [
    {
     "ename": "SyntaxError",
     "evalue": "invalid syntax (<ipython-input-114-01747845bf04>, line 1)",
     "output_type": "error",
     "traceback": [
      "\u001b[0;36m  File \u001b[0;32m\"<ipython-input-114-01747845bf04>\"\u001b[0;36m, line \u001b[0;32m1\u001b[0m\n\u001b[0;31m    http://books.toscrape.com/\u001b[0m\n\u001b[0m          ^\u001b[0m\n\u001b[0;31mSyntaxError\u001b[0m\u001b[0;31m:\u001b[0m invalid syntax\n"
     ]
    }
   ],
   "source": [
    "http://books.toscrape.com/\n",
    "http://books.toscrape.com/catalogue/page-2.html\n",
    "http://books.toscrape.com/catalogue/page-3.html"
   ]
  },
  {
   "cell_type": "code",
   "execution_count": 103,
   "metadata": {},
   "outputs": [
    {
     "data": {
      "text/plain": [
       "<zip at 0x10872ca08>"
      ]
     },
     "execution_count": 103,
     "metadata": {},
     "output_type": "execute_result"
    }
   ],
   "source": [
    "\n"
   ]
  },
  {
   "cell_type": "code",
   "execution_count": null,
   "metadata": {},
   "outputs": [],
   "source": []
  }
 ],
 "metadata": {
  "kernelspec": {
   "display_name": "Python 3",
   "language": "python",
   "name": "python3"
  },
  "language_info": {
   "codemirror_mode": {
    "name": "ipython",
    "version": 3
   },
   "file_extension": ".py",
   "mimetype": "text/x-python",
   "name": "python",
   "nbconvert_exporter": "python",
   "pygments_lexer": "ipython3",
   "version": "3.7.3"
  }
 },
 "nbformat": 4,
 "nbformat_minor": 2
}
